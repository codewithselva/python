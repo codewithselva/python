{
 "cells": [
  {
   "cell_type": "code",
   "execution_count": 12,
   "id": "0356e7f8-6597-4d65-bd7c-531b19f4c1fb",
   "metadata": {},
   "outputs": [],
   "source": [
    "a=5"
   ]
  },
  {
   "cell_type": "code",
   "execution_count": 14,
   "id": "14ce01f2",
   "metadata": {},
   "outputs": [
    {
     "data": {
      "text/plain": [
       "int"
      ]
     },
     "execution_count": 14,
     "metadata": {},
     "output_type": "execute_result"
    }
   ],
   "source": [
    "\"\"\" prints the type of class \"\"\"\n",
    "type(a)"
   ]
  },
  {
   "cell_type": "code",
   "execution_count": 5,
   "id": "1ab442be",
   "metadata": {},
   "outputs": [],
   "source": [
    "b=7.5"
   ]
  },
  {
   "cell_type": "code",
   "execution_count": 6,
   "id": "37e945a9",
   "metadata": {},
   "outputs": [
    {
     "data": {
      "text/plain": [
       "float"
      ]
     },
     "execution_count": 6,
     "metadata": {},
     "output_type": "execute_result"
    }
   ],
   "source": [
    "type(b)"
   ]
  },
  {
   "cell_type": "code",
   "execution_count": 7,
   "id": "7db7396f",
   "metadata": {},
   "outputs": [
    {
     "data": {
      "text/plain": [
       "str"
      ]
     },
     "execution_count": 7,
     "metadata": {},
     "output_type": "execute_result"
    }
   ],
   "source": [
    "c= \"selva\"\n",
    "type(c)"
   ]
  },
  {
   "cell_type": "code",
   "execution_count": 8,
   "id": "60af2bb3",
   "metadata": {},
   "outputs": [],
   "source": [
    "b,c = c,b"
   ]
  },
  {
   "cell_type": "code",
   "execution_count": 9,
   "id": "e90db714",
   "metadata": {},
   "outputs": [
    {
     "data": {
      "text/plain": [
       "float"
      ]
     },
     "execution_count": 9,
     "metadata": {},
     "output_type": "execute_result"
    }
   ],
   "source": [
    "type(c)"
   ]
  },
  {
   "cell_type": "code",
   "execution_count": 15,
   "id": "aabb0dc8",
   "metadata": {},
   "outputs": [
    {
     "name": "stdout",
     "output_type": "stream",
     "text": [
      "7.5 5 selva\n"
     ]
    }
   ],
   "source": [
    "a,b,c = c,a,b\n",
    "print(a,b,c)"
   ]
  },
  {
   "cell_type": "code",
   "execution_count": 16,
   "id": "56a539f1",
   "metadata": {},
   "outputs": [
    {
     "name": "stdout",
     "output_type": "stream",
     "text": [
      "12.5\n"
     ]
    }
   ],
   "source": [
    "print(a+b)"
   ]
  },
  {
   "cell_type": "code",
   "execution_count": 17,
   "id": "9ac23dc9",
   "metadata": {},
   "outputs": [
    {
     "data": {
      "text/plain": [
       "'selva'"
      ]
     },
     "execution_count": 17,
     "metadata": {},
     "output_type": "execute_result"
    }
   ],
   "source": [
    "c"
   ]
  },
  {
   "cell_type": "code",
   "execution_count": 18,
   "id": "7fbf4463",
   "metadata": {},
   "outputs": [
    {
     "name": "stdout",
     "output_type": "stream",
     "text": [
      "JanFebMarchAprilMayJunJuly\n"
     ]
    }
   ],
   "source": [
    "print(\"JanFebMarchAprilMayJunJuly\")"
   ]
  },
  {
   "cell_type": "code",
   "execution_count": 19,
   "id": "b2cdd5e6",
   "metadata": {},
   "outputs": [
    {
     "name": "stdout",
     "output_type": "stream",
     "text": [
      "Jan, Feb, March, April, May, Jun, July\n"
     ]
    }
   ],
   "source": [
    "print(\"Jan, Feb, March, April, May, Jun, July\")"
   ]
  },
  {
   "cell_type": "code",
   "execution_count": 21,
   "id": "fbd82fb0",
   "metadata": {},
   "outputs": [
    {
     "name": "stdout",
     "output_type": "stream",
     "text": [
      "Jan,\n",
      "Feb,\n",
      "March,\n",
      "April,\n",
      "May,\n",
      "Jun,\n",
      "July\n"
     ]
    }
   ],
   "source": [
    "print(\"Jan,\\nFeb,\\nMarch,\\nApril,\\nMay,\\nJun,\\nJuly\") # escape seq \\n => next line"
   ]
  },
  {
   "cell_type": "code",
   "execution_count": 26,
   "id": "2e74f69a",
   "metadata": {},
   "outputs": [
    {
     "name": "stdout",
     "output_type": "stream",
     "text": [
      "Jan,\n",
      "Feb,\n",
      "March,\n",
      "\n",
      "\n",
      "\n",
      "\n",
      "April,\n",
      "May,\n",
      "Jun,\n",
      "July\n"
     ]
    }
   ],
   "source": [
    "print(\"Jan,\\nFeb,\\nMarch,\")\n",
    "print(3*\"\\n\")\n",
    "print(\"April,\\nMay,\\nJun,\\nJuly\") # escape seq \\n => next line"
   ]
  },
  {
   "cell_type": "code",
   "execution_count": null,
   "id": "f3923510",
   "metadata": {},
   "outputs": [],
   "source": []
  }
 ],
 "metadata": {
  "kernelspec": {
   "display_name": "Python 3 (ipykernel)",
   "language": "python",
   "name": "python3"
  },
  "language_info": {
   "codemirror_mode": {
    "name": "ipython",
    "version": 3
   },
   "file_extension": ".py",
   "mimetype": "text/x-python",
   "name": "python",
   "nbconvert_exporter": "python",
   "pygments_lexer": "ipython3",
   "version": "3.11.5"
  }
 },
 "nbformat": 4,
 "nbformat_minor": 5
}
